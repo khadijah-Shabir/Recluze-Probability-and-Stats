import matplotlib 
import matplotlib.pyplot as plt
%matplotlib inline

import numpy as np 


import pandas as pd
url = "data/nhanes.csv"
df = pd.read_csv(url)
df.head()





gender = df['RIAGENDR']
gender.value_counts()


gender.value_counts().plot(kind='bar')
plt.show()


gender.value_counts().plot(kind='bar')
plt.xticks([0,1],['male', 'female'])
plt.xlabel("gender")
plt.ylabel("frequency")
plt.title("gender frequency overview")
plt.show()





sizes=np.array([22, 23, 29, 32, 39, 42, 42, 42, 42, 42, 42, 42, 42, 43, 44, 46, 51, 51, 55, 55, 57, 58, 78, 83, 97, 97])


sizes.mean()


from collections import Counter
cnt=Counter()

for i in sizes:
    cnt[i]+=1

cnt.most_common()


!pip install scipy


from scipy import stats
stats.mode(sizes)



gender.mode()   # not too useful since we could have got that from the bar chart anyway


stats.mode(gender)





df['HIQ210'].unique()


df['HIQ210'].value_counts().plot(kind='bar')
plt.show()


da['HIQ210'].value_counts().plot(kind='pie')  # highly NOT recommended! 
plt.show()



wt = df['BMXWT']
wt.unique()


wt.hist(bins=20)
plt.show()


plt.hist(wt,bins=20)
plt.ylabel('Frequency')
plt.xlabel('Weights');
plt.title("Histogram of Weights in NHANES Dataset")
plt.show()


!pip install seaborn


import seaborn as sns
sns.set(color_codes=True)
sns.set_style("white")



sns.distplot(wt,bins=20, kde=False)
plt.ylabel('Frequency')
plt.xlabel('Weights');
plt.title("Histogram of Weights in NHANES Dataset")
sns.despine(offset=10, trim=True)
plt.show()





plt.figure(figsize=(20,5))
x=range(df['BMXWT'].size)
y=df['BMXWT']
plt.scatter(x,y,marker='x', s=0.5)
plt.title("Weights of Individuals")
plt.xlabel("ID of Individual")
plt.ylabel("Weight (kg)")


p1=(0,75)
p2=(6000,75)
x1,y1=zip(p1,p2)
plt.plot(x1,y1, color='red', linewidth=0.75)
plt.show()



